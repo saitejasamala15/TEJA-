{
  "nbformat": 4,
  "nbformat_minor": 0,
  "metadata": {
    "colab": {
      "provenance": [],
      "include_colab_link": true
    },
    "kernelspec": {
      "name": "python3",
      "display_name": "Python 3"
    },
    "language_info": {
      "name": "python"
    }
  },
  "cells": [
    {
      "cell_type": "markdown",
      "metadata": {
        "id": "view-in-github",
        "colab_type": "text"
      },
      "source": [
        "<a href=\"https://colab.research.google.com/github/saitejasamala15/TEJA-/blob/main/bankcust.ipynb\" target=\"_parent\"><img src=\"https://colab.research.google.com/assets/colab-badge.svg\" alt=\"Open In Colab\"/></a>"
      ]
    },
    {
      "cell_type": "code",
      "execution_count": null,
      "metadata": {
        "id": "gHtOPBnYasZw"
      },
      "outputs": [],
      "source": [
        "from google.colab import drive\n",
        "drive.mount('/content/drive')\n"
      ]
    },
    {
      "cell_type": "code",
      "source": [
        "!apt-get install sqlite3\n",
        "!pip install pandas\n"
      ],
      "metadata": {
        "id": "76sdDugLauoL"
      },
      "execution_count": null,
      "outputs": []
    },
    {
      "cell_type": "code",
      "source": [
        "import sqlite3\n",
        "import pandas as pd\n",
        "import os\n"
      ],
      "metadata": {
        "id": "GCvLOnQFazwc"
      },
      "execution_count": null,
      "outputs": []
    },
    {
      "cell_type": "code",
      "source": [
        "conn = sqlite3.connect(\"my_database.db\")"
      ],
      "metadata": {
        "id": "L6f3zU-6a2Zh"
      },
      "execution_count": null,
      "outputs": []
    },
    {
      "cell_type": "code",
      "source": [
        "# Define the correct path for the database\n",
        "db_path = \"/content/drive/MyDrive/my_database.db\"\n",
        "\n"
      ],
      "metadata": {
        "id": "s9N89nKqa7Xa"
      },
      "execution_count": null,
      "outputs": []
    },
    {
      "cell_type": "code",
      "source": [
        "db_folder = \"/content/drive/MyDrive/SQLiteDB\"\n",
        "os.makedirs(db_folder, exist_ok=True)  # Ensure the folder exists\n",
        "db_path = os.path.join(db_folder, \"my_database.db\")\n",
        "\n",
        "conn = sqlite3.connect(db_path)\n",
        "cursor = conn.cursor()\n",
        "\n",
        "print(\"Database connected at:\", db_path)\n"
      ],
      "metadata": {
        "id": "SxTeYloNa9cI"
      },
      "execution_count": null,
      "outputs": []
    },
    {
      "cell_type": "markdown",
      "source": [
        "customer table"
      ],
      "metadata": {
        "id": "cQJCCR5wbLUE"
      }
    },
    {
      "cell_type": "code",
      "source": [
        "cursor.execute('''\n",
        "CREATE TABLE BANK_CUSTOMERR ( customer_id INT ,\n",
        "             \tcustomer_name VARCHAR(20),\n",
        "             \tAddress \tVARCHAR(20),\n",
        "             \tstate_code  VARCHAR(3) ,\n",
        "             \tTelephone   VARCHAR(10)\t);\n",
        "\n",
        "''')\n",
        "conn.commit()"
      ],
      "metadata": {
        "id": "gF_hZ_Gya-VA"
      },
      "execution_count": null,
      "outputs": []
    },
    {
      "cell_type": "code",
      "source": [
        "def insert_BANK_CUSTOMERR (customer_id,customer_name,Address,state_code,Telephone):\n",
        "    cursor.execute(\"INSERT INTO BANK_CUSTOMER (customer_id,customer_name,Address,state_code,Telephone) VALUES (?,?, ?, ?,?)\", (customer_id,customer_name,Address,state_code,Telephone))\n",
        "    conn.commit()\n",
        "\n",
        "# Insertion\n",
        "insert_BANK_CUSTOMERR(123001,\"Oliver\", \"225-5,Emeryville\", \"CA\" , \"1897614500\")\n",
        "insert_BANK_CUSTOMERR(123002,\"George\", \"194-6,New brighton\",\"MN\" , \"1897617000\")\n",
        "#insert_BANK_CUSTOMER(123003,\"Harry\", \"2909-5,walnut creek\",\"CA\" , \"1897617866\")\n",
        "#$insert_BANK_CUSTOMER(123004,\"Jack\", \"229-5, Concord\",  \t\"CA\" , \"1897627999\")\n",
        "#insert_BANK_CUSTOMER(123005,\"Jacob\", \"325-7, Mission Dist\",\"SFO\", \"1897637000\")\n",
        "#nsert_BANK_CUSTOMER(123006,\"Noah\", \"275-9, saint-paul\" ,  \"MN\" , \"1897613200\")\n",
        "#insert_BANK_CUSTOMER(123007,\"Charlie\",\"125-1,Richfield\",   \"MN\" , \"1897617666\")\n",
        "insert_BANK_CUSTOMERR(123008,\"Robin\",\"3005-1,Heathrow\", \t\"NY\" , \"1897614000\")"
      ],
      "metadata": {
        "id": "B2ehjR5UbN2I"
      },
      "execution_count": null,
      "outputs": []
    },
    {
      "cell_type": "code",
      "source": [
        "pip install tabulate"
      ],
      "metadata": {
        "id": "ixUWUR_DbRKx"
      },
      "execution_count": null,
      "outputs": []
    },
    {
      "cell_type": "code",
      "source": [
        "from tabulate import tabulate\n",
        "\n",
        "\n",
        "# Fetch data\n",
        "cursor.execute(\"SELECT * FROM BANK_CUSTOMER \")\n",
        "rows = cursor.fetchall()\n",
        "\n",
        "# Get column names\n",
        "column_names = [desc[0] for desc in cursor.description]\n",
        "\n",
        "# Print in tabular format\n",
        "print(tabulate(rows, headers=column_names, tablefmt=\"grid\"))"
      ],
      "metadata": {
        "id": "gAHrnwu4bTus"
      },
      "execution_count": null,
      "outputs": []
    },
    {
      "cell_type": "markdown",
      "source": [
        "1.Print customer Id, customer name and average account_balance maintained by each customer for all of his/her accounts in the bank.(8 Rows)"
      ],
      "metadata": {
        "id": "cID1rw8Xbc1O"
      }
    },
    {
      "cell_type": "code",
      "source": [
        "# SQL query to get customer_id, customer_name, and average balance amount\n",
        "query = \"\"\"\n",
        "SELECT\n",
        "    c.customer_id,\n",
        "    c.customer_name,\n",
        "    AVG(a.balance_amount) AS avg_balance\n",
        "FROM BANK_CUSTOMER c\n",
        "LEFT JOIN BANK_Account_Details a ON c.customer_id = a.customer_id\n",
        "GROUP BY c.customer_id, c.customer_name\n",
        "LIMIT 8;  -- Show only 8 rows\n",
        "\"\"\"\n",
        "\n",
        "# Execute the query\n",
        "cursor.execute(query)\n",
        "\n",
        "# Fetch column names\n",
        "columns = [desc[0] for desc in cursor.description]\n",
        "\n",
        "# Fetch all results\n",
        "results = cursor.fetchall()\n",
        "\n",
        "# Print table headers\n",
        "print(\"{:<12} {:<20} {:<15}\".format(*columns))\n",
        "print(\"-\" * 50)\n",
        "\n",
        "# Print each row in a properly formatted way\n",
        "for row in results:\n",
        "    print(\"{:<12} {:<20} {:<15.2f}\".format(*row))  # Format avg_balance to 2 decimal places"
      ],
      "metadata": {
        "id": "Oxjur7E8bWRh"
      },
      "execution_count": null,
      "outputs": []
    }
  ]
}